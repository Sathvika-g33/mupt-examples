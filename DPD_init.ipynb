{
 "cells": [
  {
   "cell_type": "markdown",
   "id": "9ba5e733",
   "metadata": {},
   "source": [
    "### Notebook for initializing polymer systems using a DPD potential"
   ]
  },
  {
   "cell_type": "code",
   "execution_count": 1,
   "id": "88429372",
   "metadata": {},
   "outputs": [],
   "source": [
    "import matplotlib\n",
    "import numpy as np  \n",
    "import gsd, gsd.hoomd \n",
    "import hoomd \n",
    "import time\n",
    "import matplotlib_inline\n",
    "import matplotlib.pyplot as plt\n",
    "%matplotlib inline\n",
    "matplotlib.style.use(\"ggplot\")\n",
    "matplotlib_inline.backend_inline.set_matplotlib_formats(\"svg\")"
   ]
  },
  {
   "cell_type": "code",
   "execution_count": 3,
   "id": "8d656b29-d0c1-4c4a-ab2c-afcd7af03a95",
   "metadata": {},
   "outputs": [
    {
     "name": "stdout",
     "output_type": "stream",
     "text": [
      "5000\n",
      "\n",
      "Running with A=1000, gamma=800, k=20000, num_pol=100, num_mon=50\n",
      "Total build time:  0.0672396250301972\n",
      "max:  1.0300301369931855  min:  0.9751991260494313\n",
      "DPD Simulation Finished.\n",
      "Finished in time = 0.67s\n"
     ]
    }
   ],
   "source": [
    "def initialize_snapshot_rand_walk(num_pol, num_mon, density=0.85, bond_length=1.0, buffer=0.1):\n",
    "    '''\n",
    "    Create a HOOMD snapshot of a cubic box with the number density given by input parameters.\n",
    "    '''    \n",
    "    N = num_pol * num_mon\n",
    "    L = np.cbrt(N / density)  # Calculate box size based on density\n",
    "    positions = np.zeros((N, 3))\n",
    "    for i in range(num_pol):\n",
    "        start = i * num_mon\n",
    "        positions[start] = np.random.uniform(low=(-L/2),high=(L/2),size=3)\n",
    "        for j in range(num_mon - 1):\n",
    "            delta = np.random.uniform(low=(-bond_length/2),high=(bond_length/2),size=3)\n",
    "            delta /= np.linalg.norm(delta)*bond_length\n",
    "            positions[start+j+1] = positions[start+j] + delta\n",
    "    positions = pbc(positions,[L,L,L])\n",
    "    bonds = []\n",
    "    for i in range(num_pol):\n",
    "        start = i * num_mon\n",
    "        for j in range(num_mon - 1):\n",
    "            bonds.append([start + j, start + j + 1])\n",
    "    bonds = np.array(bonds)\n",
    "    frame = gsd.hoomd.Frame()\n",
    "    frame.particles.types = ['A']\n",
    "    frame.particles.N = N\n",
    "    frame.particles.position = positions\n",
    "    frame.bonds.N = len(bonds)\n",
    "    frame.bonds.group = bonds\n",
    "    frame.bonds.types = ['b']\n",
    "    frame.configuration.box = [L, L, L, 0, 0, 0]\n",
    "    return frame\n",
    "\n",
    "def pbc(d,box):\n",
    "    for i in range(3):\n",
    "        a = d[:,i]\n",
    "        a[a < -box[i]/2] += box[i]\n",
    "        a[a >  box[i]/2] -= box[i]\n",
    "    return d\n",
    "\n",
    "def check_bond_length_equilibration(snap,num_mon,num_pol,max_bond_length=1.1,min_bond_length=0.9): #todo\n",
    "    frame_ds = []\n",
    "    for j in range(num_pol):\n",
    "        idx = j*num_mon\n",
    "        d1 = snap.particles.position[idx:idx+num_mon-1] - snap.particles.position[idx+1:idx+num_mon]\n",
    "        bond_l = np.linalg.norm(pbc(d1,snap.configuration.box),axis=1)\n",
    "        frame_ds.append(bond_l)\n",
    "    max_frame_bond_l = np.max(np.array(frame_ds))\n",
    "    min_frame_bond_l = np.min(np.array(frame_ds))\n",
    "    print(\"max: \",max_frame_bond_l,\" min: \",min_frame_bond_l)\n",
    "    if max_frame_bond_l <= max_bond_length and min_frame_bond_l >= min_bond_length:\n",
    "        print(\"DPD Simulation Finished.\")\n",
    "        return True\n",
    "    if max_frame_bond_l > max_bond_length or min_frame_bond_l < min_bond_length:\n",
    "        return False\n",
    "\n",
    "def run_one(A=1000,gamma=1000,k=1000,num_pol=100,num_mon=10,kT=1.0,r_cut = 1.15,bond_l=1.0,dt=0.001,density=0.8,particle_spacing = 1.1\n",
    "):\n",
    "    print(num_pol*num_mon)\n",
    "    print(f\"\\nRunning with A={A}, gamma={gamma}, k={k}, \"\n",
    "          f\"num_pol={num_pol}, num_mon={num_mon}\")\n",
    "    start_time = time.perf_counter()\n",
    "    frame = initialize_snapshot_rand_walk(num_pol, num_mon, density=density)\n",
    "    build_stop = time.perf_counter()\n",
    "    print(\"Total build time: \", build_stop-start_time)\n",
    "    harmonic = hoomd.md.bond.Harmonic()\n",
    "    harmonic.params[\"b\"] = dict(r0=bond_l, k=k)\n",
    "    integrator = hoomd.md.Integrator(dt=dt)\n",
    "    integrator.forces.append(harmonic)\n",
    "    simulation = hoomd.Simulation(device=hoomd.device.auto_select(), seed=np.random.randint(65535))# TODO seed\n",
    "    simulation.operations.integrator = integrator \n",
    "    simulation.create_state_from_snapshot(frame)\n",
    "    const_vol = hoomd.md.methods.ConstantVolume(filter=hoomd.filter.All())\n",
    "    integrator.methods.append(const_vol)\n",
    "    nlist = hoomd.md.nlist.Cell(buffer=0.4)\n",
    "    simulation.operations.nlist = nlist\n",
    "    DPD = hoomd.md.pair.DPD(nlist, default_r_cut=r_cut, kT=kT)\n",
    "    DPD.params[('A', 'A')] = dict(A=A, gamma=gamma)\n",
    "    integrator.forces.append(DPD)\n",
    "    \n",
    "    simulation.run(0)\n",
    "    simulation.run(1000)\n",
    "    snap=simulation.state.get_snapshot()\n",
    "    \n",
    "    while not check_bond_length_equilibration(snap,num_mon, num_pol,max_bond_length=particle_spacing): #TODO - work with snapshot instead of gsd?\n",
    "        check_time = time.perf_counter()\n",
    "        if (check_time-start_time) > 60:\n",
    "            return num_pol*num_mon, 0\n",
    "        simulation.run(1000)\n",
    "        snap=simulation.state.get_snapshot()\n",
    "    end_time = time.perf_counter()\n",
    "    return num_pol*num_mon, end_time - start_time\n",
    "    \n",
    "N,s = run_one(A=1000,gamma=800,k=20000,num_pol=100,num_mon=50) #A=1000 seems fast, cranking up gamma to 800 speeds up, cranking up k more does too,\n",
    "#no difference between k=10k and 20k\n",
    "#OK, with these parameters, we're finishing in under 100 steps\n",
    "print(f\"Finished in time = {s:.2f}s\")"
   ]
  },
  {
   "cell_type": "code",
   "execution_count": 4,
   "id": "62050dc2-fe73-4d06-8490-32aa8e86daed",
   "metadata": {},
   "outputs": [
    {
     "name": "stdout",
     "output_type": "stream",
     "text": [
      "10000\n",
      "\n",
      "Running with A=1000, gamma=800, k=20000, num_pol=100, num_mon=100\n",
      "Total build time:  0.076498584006913\n",
      "max:  1.0327503255036956  min:  0.9704325493364084\n",
      "DPD Simulation Finished.\n",
      "Finished in time = 1.34s\n"
     ]
    }
   ],
   "source": [
    "N,s = run_one(A=1000,gamma=800,k=20000,num_pol=100,num_mon=100)\n",
    "print(f\"Finished in time = {s:.2f}s\")"
   ]
  },
  {
   "cell_type": "code",
   "execution_count": 52,
   "id": "9963db94-036b-46e3-bf64-37966e3bfa4c",
   "metadata": {},
   "outputs": [
    {
     "name": "stdout",
     "output_type": "stream",
     "text": [
      "100000\n",
      "\n",
      "Running with A=1000, gamma=800, k=20000, num_pol=100, num_mon=1000\n",
      "50.0\n",
      "Total build time:  0.5120189579902217\n",
      "max:  1.0339326  min:  0.967937\n",
      "DPD Simulation Finished.\n",
      "Finished in time = 22.36s\n"
     ]
    }
   ],
   "source": [
    "N,s = run_one(A=1000,gamma=800,k=20000,num_pol=100,num_mon=1000)\n",
    "print(f\"Finished in time = {s:.2f}s\")"
   ]
  },
  {
   "cell_type": "code",
   "execution_count": 6,
   "id": "8c500471-f295-4a0c-89a1-089319c1f8e9",
   "metadata": {},
   "outputs": [
    {
     "name": "stdout",
     "output_type": "stream",
     "text": [
      "20000\n",
      "\n",
      "Running with A=10000, gamma=800, k=20000, num_pol=200, num_mon=100\n",
      "Total build time:  0.10955829196609557\n",
      "max:  1.1032426576806043  min:  0.8423931396572772\n",
      "max:  1.0819145568037702  min:  0.9104981740053496\n",
      "DPD Simulation Finished.\n",
      "Finished in time = 5.31s\n"
     ]
    }
   ],
   "source": [
    "N,s = run_one(A=10000,gamma=800,k=20000,num_pol=200,num_mon=100)\n",
    "print(f\"Finished in time = {s:.2f}s\")"
   ]
  },
  {
   "cell_type": "code",
   "execution_count": null,
   "id": "1b04fd76-9337-421e-bcfc-2b351c73e700",
   "metadata": {},
   "outputs": [],
   "source": []
  }
 ],
 "metadata": {
  "kernelspec": {
   "display_name": "Python 3 (ipykernel)",
   "language": "python",
   "name": "python3"
  },
  "language_info": {
   "codemirror_mode": {
    "name": "ipython",
    "version": 3
   },
   "file_extension": ".py",
   "mimetype": "text/x-python",
   "name": "python",
   "nbconvert_exporter": "python",
   "pygments_lexer": "ipython3",
   "version": "3.12.11"
  }
 },
 "nbformat": 4,
 "nbformat_minor": 5
}
