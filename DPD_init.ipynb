{
 "cells": [
  {
   "cell_type": "markdown",
   "id": "9ba5e733",
   "metadata": {},
   "source": [
    "### Notebook for initializing polymer systems using a DPD potential"
   ]
  },
  {
   "cell_type": "code",
   "execution_count": 1,
   "id": "88429372",
   "metadata": {},
   "outputs": [],
   "source": [
    "import matplotlib\n",
    "import numpy as np  \n",
    "import gsd, gsd.hoomd \n",
    "import hoomd \n",
    "import time\n",
    "import matplotlib_inline\n",
    "import matplotlib.pyplot as plt\n",
    "%matplotlib inline\n",
    "matplotlib.style.use(\"ggplot\")\n",
    "matplotlib_inline.backend_inline.set_matplotlib_formats(\"svg\")"
   ]
  },
  {
   "cell_type": "code",
   "execution_count": 49,
   "id": "8d656b29-d0c1-4c4a-ab2c-afcd7af03a95",
   "metadata": {},
   "outputs": [
    {
     "name": "stdout",
     "output_type": "stream",
     "text": [
      "5000\n",
      "\n",
      "Running with A=1000, gamma=800, k=20000, num_pol=100, num_mon=50\n",
      "18.420157493201934\n",
      "Total build time:  0.04167358297854662\n",
      "max:  1.0315987  min:  0.9744552\n",
      "DPD Simulation Finished.\n",
      "Finished in time = 0.94s\n"
     ]
    }
   ],
   "source": [
    "def initialize_snapshot_rand_walk(num_pol, num_mon, density=0.85):\n",
    "    '''\n",
    "    Create a HOOMD snapshot of a cubic box with the number density given by input parameters.\n",
    "    '''    \n",
    "    N = num_pol * num_mon\n",
    "    L = np.cbrt(N / density)  # Calculate box size based on density\n",
    "    buffer = 4\n",
    "    bond_length = 1.0\n",
    "    print(L)\n",
    "    positions = np.zeros((N, 3))\n",
    "    for i in range(num_pol):\n",
    "        start = i * num_mon\n",
    "        positions[start] = np.random.uniform(low=(-L/2),high=(L/2),size=3)\n",
    "        for j in range(num_mon - 1):\n",
    "            delta = np.random.uniform(low=(-bond_length/2),high=(bond_length/2),size=3)\n",
    "            delta /= np.linalg.norm(delta)*bond_length\n",
    "            positions[start+j+1] = positions[start+j] + delta\n",
    "    positions = pbc(positions,[L,L,L])\n",
    "    bonds = []\n",
    "    for i in range(num_pol):\n",
    "        start = i * num_mon\n",
    "        for j in range(num_mon - 1):\n",
    "            bonds.append([start + j, start + j + 1])\n",
    "    bonds = np.array(bonds)\n",
    "    frame = gsd.hoomd.Frame()\n",
    "    frame.particles.types = ['A']\n",
    "    frame.particles.N = N\n",
    "    frame.particles.position = positions\n",
    "    frame.bonds.N = len(bonds)\n",
    "    frame.bonds.group = bonds\n",
    "    frame.bonds.types = ['b']\n",
    "    frame.configuration.box = [L, L, L, 0, 0, 0]\n",
    "    return frame\n",
    "\n",
    "def pbc(d,box):\n",
    "    for i in range(3):\n",
    "        a = d[:,i]\n",
    "        a[a < -box[i]/2] += box[i]\n",
    "        a[a >  box[i]/2] -= box[i]\n",
    "    return d\n",
    "\n",
    "def check_bond_length_equilibration(gsdfile,bond_length,num_mon,num_pol): #todo\n",
    "    fene_bond_l = bond_length\n",
    "    traj = gsd.hoomd.open(gsdfile)\n",
    "    last_frame = traj[-1]\n",
    "    frame_ds = []\n",
    "    for j in range(num_pol):\n",
    "        idx = j*num_mon\n",
    "        d1 = last_frame.particles.position[idx:idx+num_mon-1] - last_frame.particles.position[idx+1:idx+num_mon]\n",
    "        bond_l = np.linalg.norm(pbc(d1,last_frame.configuration.box),axis=1)\n",
    "        frame_ds.append(bond_l)\n",
    "    max_frame_bond_l = np.max(np.array(frame_ds))\n",
    "    min_frame_bond_l = np.min(np.array(frame_ds))\n",
    "    print(\"max: \",max_frame_bond_l,\" min: \",min_frame_bond_l)\n",
    "    if max_frame_bond_l <= fene_bond_l and min_frame_bond_l >= (fene_bond_l - 0.3):\n",
    "        print(\"DPD Simulation Finished.\")\n",
    "        return True\n",
    "    if max_frame_bond_l > fene_bond_l or min_frame_bond_l < (fene_bond_l - 0.3):\n",
    "        return False\n",
    "\n",
    "def run_one(A=1000,gamma=1000,k=1000,num_pol=100,num_mon=10,kT=1.0,r_cut = 1.15,bond_l=1.0,dt=0.001,density=0.8,particle_spacing = 1.1\n",
    "):\n",
    "    print(num_pol*num_mon)\n",
    "    print(f\"\\nRunning with A={A}, gamma={gamma}, k={k}, \"\n",
    "          f\"num_pol={num_pol}, num_mon={num_mon}\")\n",
    "    start_time = time.perf_counter()\n",
    "    frame = initialize_snapshot_rand_walk(num_pol, num_mon, density=density)\n",
    "    build_stop = time.perf_counter()\n",
    "    print(\"Total build time: \", build_stop-start_time)\n",
    "    harmonic = hoomd.md.bond.Harmonic()\n",
    "    harmonic.params[\"b\"] = dict(r0=bond_l, k=k)\n",
    "    integrator = hoomd.md.Integrator(dt=dt)\n",
    "    integrator.forces.append(harmonic)\n",
    "    simulation = hoomd.Simulation(device=hoomd.device.auto_select(), seed=np.random.randint(65535))# TODO seed\n",
    "    simulation.operations.integrator = integrator \n",
    "    simulation.create_state_from_snapshot(frame)\n",
    "    const_vol = hoomd.md.methods.ConstantVolume(filter=hoomd.filter.All())\n",
    "    integrator.methods.append(const_vol)\n",
    "    nlist = hoomd.md.nlist.Cell(buffer=0.4)\n",
    "    simulation.operations.nlist = nlist\n",
    "    DPD = hoomd.md.pair.DPD(nlist, default_r_cut=r_cut, kT=kT)\n",
    "    DPD.params[('A', 'A')] = dict(A=A, gamma=gamma)\n",
    "    integrator.forces.append(DPD)\n",
    "\n",
    "    gsd_file = f'run_len_{num_mon}_pol_{num_pol}_A{int(A)}_g{int(gamma)}_k{k}.gsd'\n",
    "    gsd_out = hoomd.write.GSD(\n",
    "        trigger=hoomd.trigger.Periodic(1000), \n",
    "        mode='wb',\n",
    "        dynamic=['property','momentum'],\n",
    "        filename=gsd_file,\n",
    "        truncate=False)\n",
    "    simulation.operations.writers.append(gsd_out)\n",
    "    simulation.run(0)\n",
    "    gsd_out.flush()\n",
    "    simulation.run(1000)\n",
    "    gsd_out.flush()\n",
    "    while not check_bond_length_equilibration(gsd_file, particle_spacing, num_mon, num_pol): #TODO - work with snapshot instead of gsd?\n",
    "        check_time = time.perf_counter()\n",
    "        if (check_time-start_time) > 60:\n",
    "            return num_pol*num_mon, 0\n",
    "        simulation.run(1000)\n",
    "        gsd_out.flush()\n",
    "        print(sim.timestep)\n",
    "    end_time = time.perf_counter()\n",
    "    return num_pol*num_mon, end_time - start_time\n",
    "    \n",
    "N,s = run_one(A=1000,gamma=800,k=20000,num_pol=100,num_mon=50) #A=1000 seems fast, cranking up gamma to 800 speeds up, cranking up k more does too,\n",
    "#no difference between k=10k and 20k\n",
    "#OK, with these parameters, we're finishing in under 100 steps\n",
    "print(f\"Finished in time = {s:.2f}s\")"
   ]
  },
  {
   "cell_type": "code",
   "execution_count": 51,
   "id": "62050dc2-fe73-4d06-8490-32aa8e86daed",
   "metadata": {},
   "outputs": [
    {
     "name": "stdout",
     "output_type": "stream",
     "text": [
      "10000\n",
      "\n",
      "Running with A=1000, gamma=800, k=20000, num_pol=100, num_mon=100\n",
      "23.207944168063896\n",
      "Total build time:  0.0787271250737831\n",
      "max:  1.0294348  min:  0.9690362\n",
      "DPD Simulation Finished.\n",
      "Finished in time = 1.86s\n"
     ]
    }
   ],
   "source": [
    "N,s = run_one(A=1000,gamma=800,k=20000,num_pol=100,num_mon=100)\n",
    "print(f\"Finished in time = {s:.2f}s\")"
   ]
  },
  {
   "cell_type": "code",
   "execution_count": 52,
   "id": "9963db94-036b-46e3-bf64-37966e3bfa4c",
   "metadata": {},
   "outputs": [
    {
     "name": "stdout",
     "output_type": "stream",
     "text": [
      "100000\n",
      "\n",
      "Running with A=1000, gamma=800, k=20000, num_pol=100, num_mon=1000\n",
      "50.0\n",
      "Total build time:  0.5120189579902217\n",
      "max:  1.0339326  min:  0.967937\n",
      "DPD Simulation Finished.\n",
      "Finished in time = 22.36s\n"
     ]
    }
   ],
   "source": [
    "N,s = run_one(A=1000,gamma=800,k=20000,num_pol=100,num_mon=1000)\n",
    "print(f\"Finished in time = {s:.2f}s\")"
   ]
  },
  {
   "cell_type": "code",
   "execution_count": 53,
   "id": "8c500471-f295-4a0c-89a1-089319c1f8e9",
   "metadata": {},
   "outputs": [
    {
     "name": "stdout",
     "output_type": "stream",
     "text": [
      "200000\n",
      "\n",
      "Running with A=1000, gamma=800, k=20000, num_pol=200, num_mon=1000\n",
      "62.99605249474366\n",
      "Total build time:  0.9821798749035224\n",
      "max:  1.0381532  min:  0.963397\n",
      "DPD Simulation Finished.\n",
      "Finished in time = 45.62s\n"
     ]
    }
   ],
   "source": [
    "N,s = run_one(A=1000,gamma=800,k=20000,num_pol=200,num_mon=1000)\n",
    "print(f\"Finished in time = {s:.2f}s\")"
   ]
  },
  {
   "cell_type": "code",
   "execution_count": null,
   "id": "1b04fd76-9337-421e-bcfc-2b351c73e700",
   "metadata": {},
   "outputs": [],
   "source": []
  }
 ],
 "metadata": {
  "kernelspec": {
   "display_name": "Python 3 (ipykernel)",
   "language": "python",
   "name": "python3"
  },
  "language_info": {
   "codemirror_mode": {
    "name": "ipython",
    "version": 3
   },
   "file_extension": ".py",
   "mimetype": "text/x-python",
   "name": "python",
   "nbconvert_exporter": "python",
   "pygments_lexer": "ipython3",
   "version": "3.12.11"
  }
 },
 "nbformat": 4,
 "nbformat_minor": 5
}
