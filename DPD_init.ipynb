{
 "cells": [
  {
   "cell_type": "markdown",
   "id": "9ba5e733",
   "metadata": {},
   "source": [
    "### Notebook for initializing polymer systems using a DPD potential"
   ]
  },
  {
   "cell_type": "code",
   "execution_count": 1,
   "id": "88429372",
   "metadata": {},
   "outputs": [],
   "source": [
    "import matplotlib\n",
    "import numpy as np  \n",
    "import freud\n",
    "import gsd, gsd.hoomd \n",
    "import hoomd \n",
    "import time\n",
    "import matplotlib_inline\n",
    "import matplotlib.pyplot as plt\n",
    "\n",
    "%matplotlib inline\n",
    "matplotlib.style.use(\"ggplot\")\n",
    "matplotlib_inline.backend_inline.set_matplotlib_formats(\"svg\")"
   ]
  },
  {
   "cell_type": "code",
   "execution_count": 19,
   "id": "8d656b29-d0c1-4c4a-ab2c-afcd7af03a95",
   "metadata": {
    "scrolled": true
   },
   "outputs": [
    {
     "name": "stdout",
     "output_type": "stream",
     "text": [
      "5000\n",
      "\n",
      "Running with A=1000, gamma=800, k=20000, num_pol=1, num_mon=5000\n",
      "Total build time:  0.02890995901543647\n",
      "max:  1.0278795950112403  min:  0.9699675961085741\n",
      "Bonds relaxed.\n",
      "Inter-particle separation reached.\n",
      "Finished in time = 1.12s\n"
     ]
    }
   ],
   "source": [
    "def initialize_snapshot_rand_walk(num_pol, num_mon, density=0.85, bond_length=1.0, buffer=0.1):\n",
    "    '''\n",
    "    Create a HOOMD snapshot of a cubic box with the number density given by input parameters.\n",
    "    Configure particles using a naiive random walk.\n",
    "    \n",
    "    '''    \n",
    "    N = num_pol * num_mon\n",
    "    L = np.cbrt(N / density)  # Calculate box size based on density\n",
    "    positions = np.zeros((N, 3))\n",
    "    for i in range(num_pol):\n",
    "        start = i * num_mon\n",
    "        positions[start] = np.random.uniform(low=(-L/2),high=(L/2),size=3)\n",
    "        for j in range(num_mon - 1):\n",
    "            delta = np.random.uniform(low=(-bond_length/2),high=(bond_length/2),size=3)\n",
    "            delta /= np.linalg.norm(delta)*bond_length\n",
    "            positions[start+j+1] = positions[start+j] + delta\n",
    "    positions = pbc(positions,[L,L,L])\n",
    "    bonds = []\n",
    "    for i in range(num_pol):\n",
    "        start = i * num_mon\n",
    "        for j in range(num_mon - 1):\n",
    "            bonds.append([start + j, start + j + 1])\n",
    "    bonds = np.array(bonds)\n",
    "    frame = gsd.hoomd.Frame()\n",
    "    frame.particles.types = ['A']\n",
    "    frame.particles.N = N\n",
    "    frame.particles.position = positions\n",
    "    frame.bonds.N = len(bonds)\n",
    "    frame.bonds.group = bonds\n",
    "    frame.bonds.types = ['b']\n",
    "    frame.configuration.box = [L, L, L, 0, 0, 0]\n",
    "    return frame\n",
    "\n",
    "def pbc(d,box):\n",
    "    for i in range(3):\n",
    "        a = d[:,i]\n",
    "        pos_max = np.max(a)\n",
    "        pos_min = np.min(a)\n",
    "        while pos_max > box[i]/2 or pos_min < -box[i]/2:\n",
    "            a[a < -box[i]/2] += box[i]\n",
    "            a[a >  box[i]/2] -= box[i]\n",
    "            pos_max = np.max(a)\n",
    "            pos_min = np.min(a)\n",
    "    return d\n",
    "\n",
    "def check_bond_length_equilibration(snap,num_mon,num_pol,max_bond_length=1.1,min_bond_length=0.95):\n",
    "    '''\n",
    "    Check the bond distances.\n",
    "    \n",
    "    '''\n",
    "    frame_ds = []\n",
    "    for j in range(num_pol):\n",
    "        idx = j*num_mon\n",
    "        d1 = snap.particles.position[idx:idx+num_mon-1] - snap.particles.position[idx+1:idx+num_mon]\n",
    "        bond_l = np.linalg.norm(pbc(d1,snap.configuration.box),axis=1)\n",
    "        frame_ds.append(bond_l)\n",
    "    max_frame_bond_l = np.max(np.array(frame_ds))\n",
    "    min_frame_bond_l = np.min(np.array(frame_ds))\n",
    "    print(\"max: \",max_frame_bond_l,\" min: \",min_frame_bond_l)\n",
    "    if max_frame_bond_l <= max_bond_length and min_frame_bond_l >= min_bond_length:\n",
    "        print(\"Bonds relaxed.\")\n",
    "        return True\n",
    "    if max_frame_bond_l > max_bond_length or min_frame_bond_l < min_bond_length:\n",
    "        return False\n",
    "\n",
    "def check_inter_particle_distance(snap,minimum_distance=0.95):\n",
    "    '''\n",
    "    Check particle separations.\n",
    "    \n",
    "    '''\n",
    "    positions = snap.particles.position\n",
    "    box = snap.configuration.box\n",
    "    aq = freud.locality.AABBQuery(box,positions)\n",
    "    aq_query = aq.query(\n",
    "        query_points=positions,\n",
    "        query_args=dict(r_min=0.0, r_max=minimum_distance, exclude_ii=True),\n",
    "    )\n",
    "    nlist = aq_query.toNeighborList()\n",
    "    if len(nlist)==0:\n",
    "        print(\"Inter-particle separation reached.\")\n",
    "        return True\n",
    "    else:\n",
    "        return False\n",
    "\n",
    "def run_one(A=1000,gamma=1000,k=1000,num_pol=100,num_mon=10,kT=1.0,r_cut = 1.15,bond_l=1.0,dt=0.001,density=0.8,particle_spacing = 1.1\n",
    "):\n",
    "    '''\n",
    "    Initialize a polymer system using a random walk and a HOOMD simulation with DPD forces.\n",
    "    \n",
    "    '''\n",
    "    print(num_pol*num_mon)\n",
    "    print(f\"\\nRunning with A={A}, gamma={gamma}, k={k}, \"\n",
    "          f\"num_pol={num_pol}, num_mon={num_mon}\")\n",
    "    start_time = time.perf_counter()\n",
    "    frame = initialize_snapshot_rand_walk(num_mon=num_mon,num_pol=num_pol,bond_length=bond_l,density=density)\n",
    "    build_stop = time.perf_counter()\n",
    "    print(\"Total build time: \", build_stop-start_time)\n",
    "    harmonic = hoomd.md.bond.Harmonic()\n",
    "    harmonic.params[\"b\"] = dict(r0=bond_l, k=k)\n",
    "    integrator = hoomd.md.Integrator(dt=dt)\n",
    "    integrator.forces.append(harmonic)\n",
    "    simulation = hoomd.Simulation(device=hoomd.device.auto_select(), seed=np.random.randint(65535))# TODO seed\n",
    "    simulation.operations.integrator = integrator \n",
    "    simulation.create_state_from_snapshot(frame)\n",
    "    const_vol = hoomd.md.methods.ConstantVolume(filter=hoomd.filter.All())\n",
    "    integrator.methods.append(const_vol)\n",
    "    nlist = hoomd.md.nlist.Cell(buffer=0.4)\n",
    "    simulation.operations.nlist = nlist\n",
    "    DPD = hoomd.md.pair.DPD(nlist, default_r_cut=r_cut, kT=kT)\n",
    "    DPD.params[('A', 'A')] = dict(A=A, gamma=gamma)\n",
    "    integrator.forces.append(DPD)\n",
    "    \n",
    "    simulation.run(0)\n",
    "    simulation.run(1000)\n",
    "    snap=simulation.state.get_snapshot()\n",
    "    N = num_pol*num_mon\n",
    "    time_factor = N/90000\n",
    "    \n",
    "    while not check_bond_length_equilibration(snap,num_mon, num_pol,max_bond_length=particle_spacing): #TODO - work with snapshot instead of gsd?\n",
    "        check_time = time.perf_counter()\n",
    "        if (check_time-start_time) > 60*time_factor:\n",
    "            return num_pol*num_mon, 0\n",
    "        simulation.run(1000)\n",
    "        snap=simulation.state.get_snapshot()\n",
    "\n",
    "    while not check_inter_particle_distance(snap,minimum_distance=0.95):\n",
    "        check_time = time.perf_counter()\n",
    "        if (check_time-start_time) > 60*time_factor:\n",
    "            return num_pol*num_mon, 0\n",
    "        simulation.run(1000)\n",
    "        snap=simulation.state.get_snapshot()\n",
    "        \n",
    "    end_time = time.perf_counter()\n",
    "    return num_pol*num_mon, end_time - start_time\n",
    "    \n",
    "N,s = run_one(A=1000,gamma=800,k=20000,num_pol=1,num_mon=5000) #A=1000 seems fast, cranking up gamma to 800 speeds up, cranking up k more does too,\n",
    "#no difference between k=10k and 20k\n",
    "#OK, with these parameters, we're finishing in under 100 steps\n",
    "print(f\"Finished in time = {s:.2f}s\")"
   ]
  },
  {
   "cell_type": "code",
   "execution_count": 24,
   "id": "62050dc2-fe73-4d06-8490-32aa8e86daed",
   "metadata": {},
   "outputs": [
    {
     "name": "stdout",
     "output_type": "stream",
     "text": [
      "100000\n",
      "\n",
      "Running with A=1000, gamma=800, k=20000, num_pol=10, num_mon=10000\n",
      "Total build time:  0.3765587500529364\n",
      "max:  1.0357962891142412  min:  0.9641241040101506\n",
      "Bonds relaxed.\n",
      "Finished in time = 0.00s\n"
     ]
    }
   ],
   "source": [
    "N,s = run_one(A=1000,gamma=800,k=20000,num_pol=10,num_mon=10000)\n",
    "print(f\"Finished in time = {s:.2f}s\")"
   ]
  },
  {
   "cell_type": "code",
   "execution_count": 23,
   "id": "9963db94-036b-46e3-bf64-37966e3bfa4c",
   "metadata": {},
   "outputs": [
    {
     "name": "stdout",
     "output_type": "stream",
     "text": [
      "10000\n",
      "\n",
      "Running with A=1000, gamma=800, k=20000, num_pol=100, num_mon=100\n",
      "Total build time:  0.06813287490513176\n",
      "max:  1.0307020874075663  min:  0.9736944719590982\n",
      "Bonds relaxed.\n",
      "Inter-particle separation reached.\n",
      "Finished in time = 3.07s\n"
     ]
    }
   ],
   "source": [
    "N,s = run_one(A=1000,gamma=800,k=20000,num_pol=100,num_mon=100)\n",
    "print(f\"Finished in time = {s:.2f}s\")"
   ]
  },
  {
   "cell_type": "code",
   "execution_count": 17,
   "id": "8c500471-f295-4a0c-89a1-089319c1f8e9",
   "metadata": {},
   "outputs": [
    {
     "name": "stdout",
     "output_type": "stream",
     "text": [
      "20000\n",
      "\n",
      "Running with A=10000, gamma=800, k=20000, num_pol=200, num_mon=100\n",
      "Total build time:  0.10833537497092038\n",
      "max:  1.1233501358960543  min:  0.8812512536892857\n",
      "max:  1.087185350886018  min:  0.9094451522526453\n",
      "max:  1.0670725042459877  min:  0.930209991289446\n",
      "max:  1.0633493527100006  min:  0.9274543224424658\n",
      "max:  1.0557595494007133  min:  0.9392829253095489\n",
      "max:  1.0593671450516882  min:  0.9436121150546137\n",
      "max:  1.0481534408608102  min:  0.9456298981203638\n",
      "max:  1.0486255086337204  min:  0.9435113052883237\n",
      "max:  1.047845909265966  min:  0.9504334235611499\n",
      "Bonds relaxed.\n",
      "Inter-particle separation reached.\n",
      "Finished in time = 17.12s\n"
     ]
    }
   ],
   "source": [
    "N,s = run_one(A=10000,gamma=800,k=20000,num_pol=200,num_mon=100)\n",
    "print(f\"Finished in time = {s:.2f}s\")"
   ]
  },
  {
   "cell_type": "code",
   "execution_count": null,
   "id": "d66af887-76e3-4ad4-bc1c-bb4a61ed6f32",
   "metadata": {},
   "outputs": [],
   "source": []
  }
 ],
 "metadata": {
  "kernelspec": {
   "display_name": "Python 3 (ipykernel)",
   "language": "python",
   "name": "python3"
  },
  "language_info": {
   "codemirror_mode": {
    "name": "ipython",
    "version": 3
   },
   "file_extension": ".py",
   "mimetype": "text/x-python",
   "name": "python",
   "nbconvert_exporter": "python",
   "pygments_lexer": "ipython3",
   "version": "3.12.11"
  }
 },
 "nbformat": 4,
 "nbformat_minor": 5
}
